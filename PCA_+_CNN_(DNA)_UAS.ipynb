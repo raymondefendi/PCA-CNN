{
  "nbformat": 4,
  "nbformat_minor": 0,
  "metadata": {
    "colab": {
      "name": "PCA_+_CNN_(DNA)_UAS.ipynb",
      "provenance": []
    },
    "kernelspec": {
      "name": "python3",
      "display_name": "Python 3"
    },
    "language_info": {
      "name": "python"
    }
  },
  "cells": [
    {
      "cell_type": "code",
      "metadata": {
        "id": "8hzqUpbmOkYa"
      },
      "source": [
        "import pandas as pd\n",
        "import numpy as np\n",
        "from sklearn.model_selection import train_test_split\n",
        "from sklearn.metrics import accuracy_score\n",
        "import matplotlib.pyplot as plt\n",
        "from tensorflow.keras.utils import to_categorical\n",
        "from keras.models import Sequential\n",
        "from keras.layers import Dense, Conv1D, Flatten\n",
        "from sklearn.decomposition import PCA"
      ],
      "execution_count": null,
      "outputs": []
    },
    {
      "cell_type": "markdown",
      "metadata": {
        "id": "SZgDz5pVOs2g"
      },
      "source": [
        "Melakukan read rawdata dan dibagi menjadi x(feature) dan y(target). \n",
        "Setelah itu train test split dilakukan"
      ]
    },
    {
      "cell_type": "code",
      "metadata": {
        "id": "LgVKdNuuO_-6"
      },
      "source": [
        "data = pd.read_csv('rawdata.csv')\n",
        "\n",
        "data = data.drop(\"SAMPLE_ID\", axis = 1)\n",
        "data[\"STATUS\"].replace({1:0,2:1}, inplace=True)\n",
        "\n",
        "x = data.drop(\"STATUS\", axis=1)\n",
        "y = data['STATUS']\n",
        "\n",
        "x_train, x_test, y_train, y_test = train_test_split(x, y, test_size = 0.2, random_state = 0)"
      ],
      "execution_count": null,
      "outputs": []
    },
    {
      "cell_type": "markdown",
      "metadata": {
        "id": "Q8xKh01XPCuh"
      },
      "source": [
        "Sebelum mereshape, x_train dan x_test diubah dalam bentuk array"
      ]
    },
    {
      "cell_type": "code",
      "metadata": {
        "id": "iIpnQs4PPCWD"
      },
      "source": [
        "x_train = np.array(x_train)\n",
        "x_test = np.array(x_test)"
      ],
      "execution_count": null,
      "outputs": []
    },
    {
      "cell_type": "markdown",
      "metadata": {
        "id": "ICF7qk1uPN91"
      },
      "source": [
        "PCA data x_train dan x_test"
      ]
    },
    {
      "cell_type": "code",
      "metadata": {
        "id": "6hr9aj_LPNPS"
      },
      "source": [
        "pca = PCA(n_components=64)\n",
        "pca = pca.fit(x_train)\n",
        "x_train = pca.transform(x_train)\n",
        "x_test = pca.transform(x_test)"
      ],
      "execution_count": null,
      "outputs": []
    },
    {
      "cell_type": "markdown",
      "metadata": {
        "id": "542A0sz_PLC9"
      },
      "source": [
        "Kemudian reshape x_train dan x_test sesuai dengan shape nya"
      ]
    },
    {
      "cell_type": "code",
      "metadata": {
        "id": "MVxuaM_CPJCB"
      },
      "source": [
        "x_train = x_train.reshape(71, 64, 1)\n",
        "x_test = x_test.reshape(18, 64, 1)"
      ],
      "execution_count": null,
      "outputs": []
    },
    {
      "cell_type": "markdown",
      "metadata": {
        "id": "WTSZPSAjP-my"
      },
      "source": [
        "Membuat model dan menambahkan layer dari model"
      ]
    },
    {
      "cell_type": "code",
      "metadata": {
        "id": "VN48R7vDP_Gr"
      },
      "source": [
        "model = Sequential()\n",
        "model.add(Conv1D(64, kernel_size=3, activation='relu', input_shape=(64,1)))\n",
        "model.add(Conv1D(32, kernel_size=3, activation='relu'))\n",
        "model.add(Flatten())\n",
        "model.add(Dense(1, activation='sigmoid'))"
      ],
      "execution_count": null,
      "outputs": []
    },
    {
      "cell_type": "markdown",
      "metadata": {
        "id": "DETl7lQ6QDfk"
      },
      "source": [
        "Melakukan compile model untuk mengetahui measure model performance"
      ]
    },
    {
      "cell_type": "code",
      "metadata": {
        "id": "GMSO40t-QGWO"
      },
      "source": [
        "model.compile(optimizer='adam', loss='binary_crossentropy', metrics=['accuracy'])"
      ],
      "execution_count": null,
      "outputs": []
    },
    {
      "cell_type": "code",
      "metadata": {
        "colab": {
          "base_uri": "https://localhost:8080/"
        },
        "id": "rfvWcrABQIBJ",
        "outputId": "a5d725bb-7779-4f18-b97a-3c6fb8cedb51"
      },
      "source": [
        "model.summary()"
      ],
      "execution_count": null,
      "outputs": [
        {
          "output_type": "stream",
          "text": [
            "Model: \"sequential\"\n",
            "_________________________________________________________________\n",
            "Layer (type)                 Output Shape              Param #   \n",
            "=================================================================\n",
            "conv1d (Conv1D)              (None, 62, 64)            256       \n",
            "_________________________________________________________________\n",
            "conv1d_1 (Conv1D)            (None, 60, 32)            6176      \n",
            "_________________________________________________________________\n",
            "flatten (Flatten)            (None, 1920)              0         \n",
            "_________________________________________________________________\n",
            "dense (Dense)                (None, 1)                 1921      \n",
            "=================================================================\n",
            "Total params: 8,353\n",
            "Trainable params: 8,353\n",
            "Non-trainable params: 0\n",
            "_________________________________________________________________\n"
          ],
          "name": "stdout"
        }
      ]
    },
    {
      "cell_type": "markdown",
      "metadata": {
        "id": "6wGtFG3iQK0_"
      },
      "source": [
        "Validation"
      ]
    },
    {
      "cell_type": "code",
      "metadata": {
        "id": "T8rDHt0tQJKI"
      },
      "source": [
        "x_test, x_validation, y_test, y_validation = train_test_split(x_test, y_test, test_size = 0.3)"
      ],
      "execution_count": null,
      "outputs": []
    },
    {
      "cell_type": "markdown",
      "metadata": {
        "id": "59H9O4lsQOMa"
      },
      "source": [
        "Training model"
      ]
    },
    {
      "cell_type": "code",
      "metadata": {
        "colab": {
          "base_uri": "https://localhost:8080/"
        },
        "id": "MnrEU4eoQL5-",
        "outputId": "d308aa47-fd33-46ce-9271-a4e53237a6e7"
      },
      "source": [
        "model.fit(x_train, y_train, validation_data=(x_validation, y_validation), epochs=10)"
      ],
      "execution_count": null,
      "outputs": [
        {
          "output_type": "stream",
          "text": [
            "Epoch 1/10\n",
            "3/3 [==============================] - 16s 285ms/step - loss: 0.6769 - accuracy: 0.5449 - val_loss: 0.7225 - val_accuracy: 0.1667\n",
            "Epoch 2/10\n",
            "3/3 [==============================] - 0s 16ms/step - loss: 0.6039 - accuracy: 0.6818 - val_loss: 0.7194 - val_accuracy: 0.5000\n",
            "Epoch 3/10\n",
            "3/3 [==============================] - 0s 16ms/step - loss: 0.5802 - accuracy: 0.6920 - val_loss: 0.7159 - val_accuracy: 0.3333\n",
            "Epoch 4/10\n",
            "3/3 [==============================] - 0s 15ms/step - loss: 0.5077 - accuracy: 0.8436 - val_loss: 0.7129 - val_accuracy: 0.5000\n",
            "Epoch 5/10\n",
            "3/3 [==============================] - 0s 15ms/step - loss: 0.4829 - accuracy: 0.9250 - val_loss: 0.7100 - val_accuracy: 0.5000\n",
            "Epoch 6/10\n",
            "3/3 [==============================] - 0s 15ms/step - loss: 0.4431 - accuracy: 0.8937 - val_loss: 0.7064 - val_accuracy: 0.5000\n",
            "Epoch 7/10\n",
            "3/3 [==============================] - 0s 16ms/step - loss: 0.4173 - accuracy: 0.8515 - val_loss: 0.7026 - val_accuracy: 0.5000\n",
            "Epoch 8/10\n",
            "3/3 [==============================] - 0s 16ms/step - loss: 0.3815 - accuracy: 0.9625 - val_loss: 0.7006 - val_accuracy: 0.5000\n",
            "Epoch 9/10\n",
            "3/3 [==============================] - 0s 16ms/step - loss: 0.3222 - accuracy: 0.9781 - val_loss: 0.6983 - val_accuracy: 0.6667\n",
            "Epoch 10/10\n",
            "3/3 [==============================] - 0s 16ms/step - loss: 0.2958 - accuracy: 0.9515 - val_loss: 0.6921 - val_accuracy: 0.6667\n"
          ],
          "name": "stdout"
        },
        {
          "output_type": "execute_result",
          "data": {
            "text/plain": [
              "<keras.callbacks.History at 0x7f59ed4eaa10>"
            ]
          },
          "metadata": {
            "tags": []
          },
          "execution_count": 11
        }
      ]
    },
    {
      "cell_type": "markdown",
      "metadata": {
        "id": "6Y85J6yGQR_X"
      },
      "source": [
        "Prediksi test set dan mengubah setiap value > 0.50 menjadi 1 dan setiap value < 0.50 menjadi 0 agar accuracy score dapat dilakukan "
      ]
    },
    {
      "cell_type": "code",
      "metadata": {
        "colab": {
          "base_uri": "https://localhost:8080/"
        },
        "id": "5nwuu5zQQRuA",
        "outputId": "df9288d2-cb9b-4f4f-f20a-695a98aea30b"
      },
      "source": [
        "prediction = model.predict(x_test)\n",
        "pred = (prediction > 0.50).astype(int)\n",
        "pred"
      ],
      "execution_count": null,
      "outputs": [
        {
          "output_type": "execute_result",
          "data": {
            "text/plain": [
              "array([[0],\n",
              "       [1],\n",
              "       [0],\n",
              "       [0],\n",
              "       [1],\n",
              "       [1],\n",
              "       [0],\n",
              "       [1],\n",
              "       [1],\n",
              "       [0],\n",
              "       [1],\n",
              "       [1]])"
            ]
          },
          "metadata": {
            "tags": []
          },
          "execution_count": 12
        }
      ]
    },
    {
      "cell_type": "markdown",
      "metadata": {
        "id": "dx6pz1MHQXuo"
      },
      "source": [
        "Hasil akhir dalam bentuk perbandingan antara data prediksi dan data real"
      ]
    },
    {
      "cell_type": "code",
      "metadata": {
        "colab": {
          "base_uri": "https://localhost:8080/"
        },
        "id": "UV6hSCwZQUpN",
        "outputId": "4a981977-6d16-45e2-df6b-55bee069781a"
      },
      "source": [
        "accuracy_score(y_test, pred)"
      ],
      "execution_count": null,
      "outputs": [
        {
          "output_type": "execute_result",
          "data": {
            "text/plain": [
              "0.4166666666666667"
            ]
          },
          "metadata": {
            "tags": []
          },
          "execution_count": 13
        }
      ]
    }
  ]
}